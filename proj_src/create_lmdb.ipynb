{
 "cells": [
  {
   "cell_type": "code",
   "execution_count": 1,
   "metadata": {
    "collapsed": true
   },
   "outputs": [],
   "source": [
    "\"\"\"\n",
    "Title           :create_lmdb.py\n",
    "Description     :This script divides the training images into 2 sets\n",
    "    and stores them in lmdb databases for training and validation.\n",
    "Author          :Xikun Zhang\n",
    "usage           :python create_lmdb.py\n",
    "python_version  :3.5\n",
    "\"\"\"\n",
    "\n",
    "import os\n",
    "from os.path import *\n",
    "import glob\n",
    "import random\n",
    "import numpy as np\n",
    "\n",
    "import cv2\n",
    "import sys"
   ]
  },
  {
   "cell_type": "code",
   "execution_count": 10,
   "metadata": {},
   "outputs": [
    {
     "data": {
      "text/plain": [
       "(4602, 26, 31, 23)"
      ]
     },
     "execution_count": 10,
     "metadata": {},
     "output_type": "execute_result"
    }
   ],
   "source": [
    "data_dir = '../CS446-project'\n",
    "train_x = join(data_dir, 'train_X.npy')\n",
    "train_y = join(data_dir, 'train_binary_Y.npy')\n",
    "train_x = np.load(train_x)\n",
    "train_y = np.load(train_y)\n",
    "train_x.shape"
   ]
  },
  {
   "cell_type": "code",
   "execution_count": 11,
   "metadata": {
    "scrolled": true
   },
   "outputs": [
    {
     "data": {
      "text/plain": [
       "(4602, 19)"
      ]
     },
     "execution_count": 11,
     "metadata": {},
     "output_type": "execute_result"
    }
   ],
   "source": [
    "train_y.shape"
   ]
  },
  {
   "cell_type": "code",
   "execution_count": 16,
   "metadata": {},
   "outputs": [
    {
     "data": {
      "text/plain": [
       "(1971, 26, 31, 23)"
      ]
     },
     "execution_count": 16,
     "metadata": {},
     "output_type": "execute_result"
    }
   ],
   "source": [
    "test_x = join(data_dir, 'valid_test_X.npy')\n",
    "test_x = np.load(test_x)\n",
    "test_x.shape"
   ]
  },
  {
   "cell_type": "code",
   "execution_count": 17,
   "metadata": {
    "collapsed": true
   },
   "outputs": [],
   "source": [
    "# print(sys.path)\n",
    "# try:\n",
    "#     user_paths = os.environ['PYTHONPATH'].split(os.pathsep)\n",
    "# except KeyError:\n",
    "#     user_paths = []\n",
    "#\n",
    "# print(user_paths)\n",
    "\n",
    "\n",
    "import caffe\n",
    "from caffe.proto import caffe_pb2\n",
    "import lmdb\n",
    "\n",
    "# Size of images\n",
    "IMAGE_WIDTH = 227\n",
    "IMAGE_HEIGHT = 227\n",
    "\n",
    "\n",
    "# def transform_img(img, img_width=IMAGE_WIDTH, img_height=IMAGE_HEIGHT):\n",
    "#     # Histogram Equalization\n",
    "#     img[:, :, 0] = cv2.equalizeHist(img[:, :, 0])\n",
    "#     img[:, :, 1] = cv2.equalizeHist(img[:, :, 1])\n",
    "#     img[:, :, 2] = cv2.equalizeHist(img[:, :, 2])\n",
    "\n",
    "#     # Image Resizing\n",
    "#     img = cv2.resize(img, (img_width, img_height), interpolation=cv2.INTER_CUBIC)\n",
    "\n",
    "#     return img\n",
    "\n",
    "\n",
    "def make_datum(img, label):\n",
    "    # image is numpy.ndarray format. BGR instead of RGB\n",
    "    return caffe_pb2.Datum(\n",
    "        channels=3,\n",
    "        width=IMAGE_WIDTH,\n",
    "        height=IMAGE_HEIGHT,\n",
    "        label=label,\n",
    "        data=np.rollaxis(img, 2).tostring())"
   ]
  },
  {
   "cell_type": "code",
   "execution_count": null,
   "metadata": {
    "collapsed": true
   },
   "outputs": [],
   "source": [
    "train_lmdb = join(data_dir, 'train_lmdb')\n",
    "validation_lmdb = join(data_dir, 'validation_lmdb')\n",
    "test_lmdb = join(data_dir, 'test_lmdb')\n",
    "\n",
    "os.system('rm -rf  ' + train_lmdb)\n",
    "os.system('rm -rf  ' + validation_lmdb)\n",
    "os.system('rm -rf  ' + test_lmdb)\n",
    "\n",
    "\n",
    "# train_data = [img for img in glob.glob(\"../input/train/*jpg\")]\n",
    "# test_data = [img for img in glob.glob(\"../input/test1/*jpg\")]\n",
    "\n",
    "# # Shuffle train_data\n",
    "# random.shuffle(train_data)\n",
    "\n",
    "print('Creating train_lmdb')\n",
    "\n",
    "in_db = lmdb.open(train_lmdb, map_size=int(1e12))\n",
    "with in_db.begin(write=True) as in_txn:\n",
    "    for in_idx in range(len(train_x)):\n",
    "        if in_idx % 6 == 0:\n",
    "            continue\n",
    "#         img = cv2.imread(img_path, cv2.IMREAD_COLOR)\n",
    "#         img = transform_img(img, img_width=IMAGE_WIDTH, img_height=IMAGE_HEIGHT)\n",
    "#         if 'cat' in img_path:\n",
    "#             label = 0\n",
    "#         else:\n",
    "#             label = 1\n",
    "        datum = make_datum(img, label)\n",
    "        in_txn.put('{:0>5d}'.format(in_idx), datum.SerializeToString())\n",
    "        print('{:0>5d}'.format(in_idx) + ':' + img_path)\n",
    "in_db.close()\n",
    "\n",
    "print('\\nCreating validation_lmdb')\n",
    "\n",
    "in_db = lmdb.open(validation_lmdb, map_size=int(1e12))\n",
    "with in_db.begin(write=True) as in_txn:\n",
    "    for in_idx, img_path in enumerate(train_data):\n",
    "        if in_idx % 6 != 0:\n",
    "            continue\n",
    "        img = cv2.imread(img_path, cv2.IMREAD_COLOR)\n",
    "        img = transform_img(img, img_width=IMAGE_WIDTH, img_height=IMAGE_HEIGHT)\n",
    "        if 'cat' in img_path:\n",
    "            label = 0\n",
    "        else:\n",
    "            label = 1\n",
    "        datum = make_datum(img, label)\n",
    "        in_txn.put('{:0>5d}'.format(in_idx), datum.SerializeToString())\n",
    "        print('{:0>5d}'.format(in_idx) + ':' + img_path)\n",
    "in_db.close()\n",
    "\n",
    "print('\\nFinished processing all images')\n"
   ]
  }
 ],
 "metadata": {
  "kernelspec": {
   "display_name": "Python [conda env:py35]",
   "language": "python",
   "name": "conda-env-py35-py"
  },
  "language_info": {
   "codemirror_mode": {
    "name": "ipython",
    "version": 3
   },
   "file_extension": ".py",
   "mimetype": "text/x-python",
   "name": "python",
   "nbconvert_exporter": "python",
   "pygments_lexer": "ipython3",
   "version": "3.5.2"
  }
 },
 "nbformat": 4,
 "nbformat_minor": 2
}
